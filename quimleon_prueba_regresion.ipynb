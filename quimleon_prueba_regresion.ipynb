{
  "nbformat": 4,
  "nbformat_minor": 0,
  "metadata": {
    "colab": {
      "name": "quimleon prueba regresion.ipynb",
      "provenance": [],
      "authorship_tag": "ABX9TyO7roCoqyNIsuThvbHjCFK4",
      "include_colab_link": true
    },
    "kernelspec": {
      "name": "python3",
      "display_name": "Python 3"
    }
  },
  "cells": [
    {
      "cell_type": "markdown",
      "metadata": {
        "id": "view-in-github",
        "colab_type": "text"
      },
      "source": [
        "<a href=\"https://colab.research.google.com/github/quimleon/awesome-flutter/blob/master/quimleon_prueba_regresion.ipynb\" target=\"_parent\"><img src=\"https://colab.research.google.com/assets/colab-badge.svg\" alt=\"Open In Colab\"/></a>"
      ]
    },
    {
      "cell_type": "code",
      "metadata": {
        "id": "OFEPWfnWih3B",
        "colab_type": "code",
        "outputId": "3143bac7-2487-498e-e267-5029312e11c2",
        "colab": {
          "base_uri": "https://localhost:8080/",
          "height": 296
        }
      },
      "source": [
        "import numpy as np\n",
        "import matplotlib.pyplot as plt\n",
        "\n",
        "def estimate_b0_b1(x,y):\n",
        "  n = np.size(x)\n",
        "\n",
        "  m_x, m_y = np.mean(x), np.mean(y)\n",
        "\n",
        "  #sumatorias\n",
        "  sumatoria_xy = np.sum((x-m_x)*(y-m_y))\n",
        "  sumatoria_xx = np.sum(x*(x-m_x))\n",
        "\n",
        "  #coeficientes\n",
        "\n",
        "  b_1 = sumatoria_xy/sumatoria_xx\n",
        "  b_0 = m_y-b_1*m_x\n",
        "\n",
        "  return (b_0, b_1)\n",
        "  # funcion grafica\n",
        "def plot_regression(x,y,b):\n",
        "    plt.scatter(x,y, color= \"g\", marker = \"o\", s=30)\n",
        "    y_pred = b[0] + b[1]*x\n",
        "    plt.plot(x, y_pred, color = \"b\")\n",
        "\n",
        "    plt.xlabel('x-independiente')\n",
        "    plt.ylabel('y-dependiente')\n",
        "\n",
        "    plt.show()\n",
        "\n",
        "def main():\n",
        "  x=np.array([1,2,3,4,5])\n",
        "  y=np.array([10,25,52,63,55])\n",
        "\n",
        "  b=estimate_b0_b1(x,y)\n",
        "  print(\"los valores b0 = {}, b1 ={}\".format(b[0], b[1]))\n",
        "  plot_regression(x,y,b)\n",
        "if __name__== \"__main__\":\n",
        "    main()\n",
        "\n",
        "\n",
        "\n",
        "\n",
        "                      \n",
        "\n"
      ],
      "execution_count": 12,
      "outputs": [
        {
          "output_type": "stream",
          "text": [
            "los valores b0 = 2.5999999999999943, b1 =12.8\n"
          ],
          "name": "stdout"
        },
        {
          "output_type": "display_data",
          "data": {
            "image/png": "[encoded data removed]",
            "text/plain": [
              "<Figure size 432x288 with 1 Axes>"
            ]
          },
          "metadata": {
            "tags": []
          }
        }
      ]
    }
  ]
}